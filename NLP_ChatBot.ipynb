{
  "cells": [
    {
      "cell_type": "markdown",
      "metadata": {
        "id": "view-in-github",
        "colab_type": "text"
      },
      "source": [
        "<a href=\"https://colab.research.google.com/github/Poojith2602/An-NLP-Powered-Chatbot-with-Integrated-Text-Summarization-/blob/main/NLP_ChatBot.ipynb\" target=\"_parent\"><img src=\"https://colab.research.google.com/assets/colab-badge.svg\" alt=\"Open In Colab\"/></a>"
      ]
    },
    {
      "cell_type": "code",
      "execution_count": 2,
      "metadata": {
        "colab": {
          "base_uri": "https://localhost:8080/"
        },
        "id": "VibUyioNOQb3",
        "outputId": "11ae3716-e2e4-4cf1-c788-109fff48bb13"
      },
      "outputs": [
        {
          "output_type": "stream",
          "name": "stderr",
          "text": [
            "[nltk_data] Downloading package punkt_tab to /root/nltk_data...\n",
            "[nltk_data]   Unzipping tokenizers/punkt_tab.zip.\n"
          ]
        }
      ],
      "source": [
        "import io\n",
        "import random\n",
        "import string # to process standard python strings\n",
        "import warnings\n",
        "import numpy as np\n",
        "from sklearn.feature_extraction.text import TfidfVectorizer\n",
        "from sklearn.metrics.pairwise import cosine_similarity\n",
        "import warnings\n",
        "import nltk\n",
        "nltk.download('punkt_tab')\n",
        "warnings.filterwarnings('ignore')"
      ]
    },
    {
      "cell_type": "code",
      "execution_count": 3,
      "metadata": {
        "colab": {
          "base_uri": "https://localhost:8080/",
          "height": 142
        },
        "id": "qstWdV_9OiWs",
        "outputId": "7dd6c1a7-ef88-4c18-e4e4-1d4204f1eebb"
      },
      "outputs": [
        {
          "output_type": "display_data",
          "data": {
            "text/plain": [
              "<IPython.core.display.HTML object>"
            ],
            "text/html": [
              "\n",
              "     <input type=\"file\" id=\"files-64f795ce-e5e4-4871-a897-c940e9f6e695\" name=\"files[]\" multiple disabled\n",
              "        style=\"border:none\" />\n",
              "     <output id=\"result-64f795ce-e5e4-4871-a897-c940e9f6e695\">\n",
              "      Upload widget is only available when the cell has been executed in the\n",
              "      current browser session. Please rerun this cell to enable.\n",
              "      </output>\n",
              "      <script>// Copyright 2017 Google LLC\n",
              "//\n",
              "// Licensed under the Apache License, Version 2.0 (the \"License\");\n",
              "// you may not use this file except in compliance with the License.\n",
              "// You may obtain a copy of the License at\n",
              "//\n",
              "//      http://www.apache.org/licenses/LICENSE-2.0\n",
              "//\n",
              "// Unless required by applicable law or agreed to in writing, software\n",
              "// distributed under the License is distributed on an \"AS IS\" BASIS,\n",
              "// WITHOUT WARRANTIES OR CONDITIONS OF ANY KIND, either express or implied.\n",
              "// See the License for the specific language governing permissions and\n",
              "// limitations under the License.\n",
              "\n",
              "/**\n",
              " * @fileoverview Helpers for google.colab Python module.\n",
              " */\n",
              "(function(scope) {\n",
              "function span(text, styleAttributes = {}) {\n",
              "  const element = document.createElement('span');\n",
              "  element.textContent = text;\n",
              "  for (const key of Object.keys(styleAttributes)) {\n",
              "    element.style[key] = styleAttributes[key];\n",
              "  }\n",
              "  return element;\n",
              "}\n",
              "\n",
              "// Max number of bytes which will be uploaded at a time.\n",
              "const MAX_PAYLOAD_SIZE = 100 * 1024;\n",
              "\n",
              "function _uploadFiles(inputId, outputId) {\n",
              "  const steps = uploadFilesStep(inputId, outputId);\n",
              "  const outputElement = document.getElementById(outputId);\n",
              "  // Cache steps on the outputElement to make it available for the next call\n",
              "  // to uploadFilesContinue from Python.\n",
              "  outputElement.steps = steps;\n",
              "\n",
              "  return _uploadFilesContinue(outputId);\n",
              "}\n",
              "\n",
              "// This is roughly an async generator (not supported in the browser yet),\n",
              "// where there are multiple asynchronous steps and the Python side is going\n",
              "// to poll for completion of each step.\n",
              "// This uses a Promise to block the python side on completion of each step,\n",
              "// then passes the result of the previous step as the input to the next step.\n",
              "function _uploadFilesContinue(outputId) {\n",
              "  const outputElement = document.getElementById(outputId);\n",
              "  const steps = outputElement.steps;\n",
              "\n",
              "  const next = steps.next(outputElement.lastPromiseValue);\n",
              "  return Promise.resolve(next.value.promise).then((value) => {\n",
              "    // Cache the last promise value to make it available to the next\n",
              "    // step of the generator.\n",
              "    outputElement.lastPromiseValue = value;\n",
              "    return next.value.response;\n",
              "  });\n",
              "}\n",
              "\n",
              "/**\n",
              " * Generator function which is called between each async step of the upload\n",
              " * process.\n",
              " * @param {string} inputId Element ID of the input file picker element.\n",
              " * @param {string} outputId Element ID of the output display.\n",
              " * @return {!Iterable<!Object>} Iterable of next steps.\n",
              " */\n",
              "function* uploadFilesStep(inputId, outputId) {\n",
              "  const inputElement = document.getElementById(inputId);\n",
              "  inputElement.disabled = false;\n",
              "\n",
              "  const outputElement = document.getElementById(outputId);\n",
              "  outputElement.innerHTML = '';\n",
              "\n",
              "  const pickedPromise = new Promise((resolve) => {\n",
              "    inputElement.addEventListener('change', (e) => {\n",
              "      resolve(e.target.files);\n",
              "    });\n",
              "  });\n",
              "\n",
              "  const cancel = document.createElement('button');\n",
              "  inputElement.parentElement.appendChild(cancel);\n",
              "  cancel.textContent = 'Cancel upload';\n",
              "  const cancelPromise = new Promise((resolve) => {\n",
              "    cancel.onclick = () => {\n",
              "      resolve(null);\n",
              "    };\n",
              "  });\n",
              "\n",
              "  // Wait for the user to pick the files.\n",
              "  const files = yield {\n",
              "    promise: Promise.race([pickedPromise, cancelPromise]),\n",
              "    response: {\n",
              "      action: 'starting',\n",
              "    }\n",
              "  };\n",
              "\n",
              "  cancel.remove();\n",
              "\n",
              "  // Disable the input element since further picks are not allowed.\n",
              "  inputElement.disabled = true;\n",
              "\n",
              "  if (!files) {\n",
              "    return {\n",
              "      response: {\n",
              "        action: 'complete',\n",
              "      }\n",
              "    };\n",
              "  }\n",
              "\n",
              "  for (const file of files) {\n",
              "    const li = document.createElement('li');\n",
              "    li.append(span(file.name, {fontWeight: 'bold'}));\n",
              "    li.append(span(\n",
              "        `(${file.type || 'n/a'}) - ${file.size} bytes, ` +\n",
              "        `last modified: ${\n",
              "            file.lastModifiedDate ? file.lastModifiedDate.toLocaleDateString() :\n",
              "                                    'n/a'} - `));\n",
              "    const percent = span('0% done');\n",
              "    li.appendChild(percent);\n",
              "\n",
              "    outputElement.appendChild(li);\n",
              "\n",
              "    const fileDataPromise = new Promise((resolve) => {\n",
              "      const reader = new FileReader();\n",
              "      reader.onload = (e) => {\n",
              "        resolve(e.target.result);\n",
              "      };\n",
              "      reader.readAsArrayBuffer(file);\n",
              "    });\n",
              "    // Wait for the data to be ready.\n",
              "    let fileData = yield {\n",
              "      promise: fileDataPromise,\n",
              "      response: {\n",
              "        action: 'continue',\n",
              "      }\n",
              "    };\n",
              "\n",
              "    // Use a chunked sending to avoid message size limits. See b/62115660.\n",
              "    let position = 0;\n",
              "    do {\n",
              "      const length = Math.min(fileData.byteLength - position, MAX_PAYLOAD_SIZE);\n",
              "      const chunk = new Uint8Array(fileData, position, length);\n",
              "      position += length;\n",
              "\n",
              "      const base64 = btoa(String.fromCharCode.apply(null, chunk));\n",
              "      yield {\n",
              "        response: {\n",
              "          action: 'append',\n",
              "          file: file.name,\n",
              "          data: base64,\n",
              "        },\n",
              "      };\n",
              "\n",
              "      let percentDone = fileData.byteLength === 0 ?\n",
              "          100 :\n",
              "          Math.round((position / fileData.byteLength) * 100);\n",
              "      percent.textContent = `${percentDone}% done`;\n",
              "\n",
              "    } while (position < fileData.byteLength);\n",
              "  }\n",
              "\n",
              "  // All done.\n",
              "  yield {\n",
              "    response: {\n",
              "      action: 'complete',\n",
              "    }\n",
              "  };\n",
              "}\n",
              "\n",
              "scope.google = scope.google || {};\n",
              "scope.google.colab = scope.google.colab || {};\n",
              "scope.google.colab._files = {\n",
              "  _uploadFiles,\n",
              "  _uploadFilesContinue,\n",
              "};\n",
              "})(self);\n",
              "</script> "
            ]
          },
          "metadata": {}
        },
        {
          "output_type": "stream",
          "name": "stdout",
          "text": [
            "Saving chatbot.txt to chatbot.txt\n",
            "len(uploaded.keys()): 1\n",
            "User uploaded file \"chatbot.txt\" with length 966 bytes\n",
            "\n",
            "A chatbot or chatterbot is a software application aimed at simulating conversation with human users\n"
          ]
        }
      ],
      "source": [
        "import nltk\n",
        "import os\n",
        "from google.colab import files\n",
        "\n",
        "uploaded = files.upload()\n",
        "print(\"len(uploaded.keys()):\", len(uploaded.keys()))\n",
        "\n",
        "# Load text into an object called \"text\"\n",
        "for fn in uploaded.keys():\n",
        "    print('User uploaded file \"{name}\" with length {length} bytes'.format(name=fn, length=len(uploaded[fn])))\n",
        "    with open(fn, 'r', encoding='utf8', errors='ignore') as f:\n",
        "        # set contents of file to your text object HERE\n",
        "        text = f.read()\n",
        "        f.seek(0)  # Move the file pointer to the beginning of the file\n",
        "        partial_text = f.read(100)  # Read the first 100 characters\n",
        "print(partial_text)\n"
      ]
    },
    {
      "cell_type": "code",
      "execution_count": 4,
      "metadata": {
        "id": "0w6O2TrbPzeO"
      },
      "outputs": [],
      "source": [
        "sent_tokens = nltk.sent_tokenize(text)# converts to list of sentences\n",
        "word_tokens = nltk.word_tokenize(text)# converts to list of words\n",
        "def tokenize_sentences(text):\n",
        "    sentences = text\n",
        "\n",
        "    return nltk.sent_tokenize(text)\n",
        "\n",
        "sentences = tokenize_sentences(text)"
      ]
    },
    {
      "cell_type": "code",
      "execution_count": 5,
      "metadata": {
        "id": "lmskMEqrP2SR"
      },
      "outputs": [],
      "source": [
        "import string\n",
        "\n",
        "translation = str.maketrans('', '', string.punctuation)\n",
        "\n",
        "def preprocess_text(sentences):\n",
        "\n",
        "    cleaned = [w.lower() for w in sentences]\n",
        "    cleaned = [w.translate(translation) for w in cleaned]\n",
        "\n",
        "    return cleaned\n",
        "\n",
        "cleaned = preprocess_text(sentences)"
      ]
    },
    {
      "cell_type": "code",
      "execution_count": 6,
      "metadata": {
        "colab": {
          "base_uri": "https://localhost:8080/"
        },
        "id": "rPNA5C5GP-MJ",
        "outputId": "93d9800a-22a4-49fb-e167-22d8e542b85a"
      },
      "outputs": [
        {
          "output_type": "stream",
          "name": "stdout",
          "text": [
            "       1994  accessed  acquisition     aimed  application  apps  assistant  \\\n",
            "0  0.000000       0.0     0.000000  0.310414     0.310414   0.0        0.0   \n",
            "1  0.000000       0.0     0.000000  0.000000     0.000000   0.0        0.0   \n",
            "2  0.000000       0.0     0.287854  0.000000     0.000000   0.0        0.0   \n",
            "3  0.000000       0.0     0.000000  0.000000     0.000000   0.0        0.0   \n",
            "4  0.310414       0.0     0.000000  0.000000     0.000000   0.0        0.0   \n",
            "\n",
            "   assistants    behave   chatbot  ...    turing  typically       use  \\\n",
            "0         0.0  0.000000  0.310414  ...  0.000000   0.000000  0.000000   \n",
            "1         0.0  0.320132  0.000000  ...  0.320132   0.000000  0.000000   \n",
            "2         0.0  0.000000  0.000000  ...  0.000000   0.287854  0.000000   \n",
            "3         0.0  0.000000  0.000000  ...  0.000000   0.000000  0.217863   \n",
            "4         0.0  0.000000  0.000000  ...  0.000000   0.000000  0.000000   \n",
            "\n",
            "       used     users   various    verbot  virtual  websites   wording  \n",
            "0  0.000000  0.310414  0.000000  0.000000      0.0       0.0  0.000000  \n",
            "1  0.000000  0.000000  0.000000  0.000000      0.0       0.0  0.000000  \n",
            "2  0.287854  0.000000  0.287854  0.000000      0.0       0.0  0.000000  \n",
            "3  0.000000  0.000000  0.000000  0.000000      0.0       0.0  0.217863  \n",
            "4  0.000000  0.000000  0.000000  0.310414      0.0       0.0  0.000000  \n",
            "\n",
            "[5 rows x 72 columns]\n"
          ]
        }
      ],
      "source": [
        "# create TFIDF (or BOW) matrix on SENTENCES\n",
        "import pandas as pd\n",
        "\n",
        "from sklearn.feature_extraction.text import CountVectorizer\n",
        "\n",
        "from sklearn.feature_extraction.text import TfidfVectorizer\n",
        "\n",
        "TfidfVec = TfidfVectorizer(stop_words='english') #see documentation for options!\n",
        "tfidf = TfidfVec.fit_transform(cleaned)\n",
        "\n",
        "X = pd.DataFrame(tfidf.toarray(), columns = TfidfVec.get_feature_names_out(), dtype='float32')\n",
        "print(X.head())"
      ]
    },
    {
      "cell_type": "code",
      "execution_count": 7,
      "metadata": {
        "id": "W_IDGMilQDwo"
      },
      "outputs": [],
      "source": [
        "GREETING_INPUTS = (\"hello\", \"hi\", \"greetings\", \"sup\", \"what's up\",\"hey\",)\n",
        "GREETING_RESPONSES = [\"hi\", \"hey\", \"*nods*\", \"hi there\", \"hello\", \"I am glad! You are talking to me\"]\n",
        "def greeting(sentence):\n",
        "\n",
        "    for word in sentence.split():\n",
        "        if word.lower() in GREETING_INPUTS:\n",
        "            return random.choice(GREETING_RESPONSES)"
      ]
    },
    {
      "cell_type": "code",
      "execution_count": 8,
      "metadata": {
        "id": "vzHiGHlSQHLJ"
      },
      "outputs": [],
      "source": [
        "def respond(user_input):\n",
        "    bot_response = ''\n",
        "    query = TfidfVec.transform([user_input])\n",
        "    cosine_sim = query.dot(X.T)\n",
        "    max_sim_index = cosine_sim.argmax()\n",
        "    if max_sim_index == 0:\n",
        "        return 'BOT: I beg your pardon? I\\'m not quite sure I got your meaning.'\n",
        "    bot_response = sentences[max_sim_index]\n",
        "    return bot_response"
      ]
    },
    {
      "cell_type": "code",
      "execution_count": 9,
      "metadata": {
        "id": "NCkySWilQMmS"
      },
      "outputs": [],
      "source": [
        "from heapq import nlargest"
      ]
    },
    {
      "cell_type": "code",
      "execution_count": 10,
      "metadata": {
        "id": "QW4waCq7QRs8"
      },
      "outputs": [],
      "source": [
        "def summarize_text(user_input):\n",
        "    if user_input.lower() == \"~summarize\":\n",
        "        import spacy\n",
        "        from spacy.lang.en.stop_words import STOP_WORDS\n",
        "        from string import punctuation\n",
        "        from heapq import nlargest\n",
        "        stopwords = list(STOP_WORDS)\n",
        "        nlp = spacy.load('en_core_web_sm')\n",
        "        doc = nlp(text)\n",
        "\n",
        "        word_frequencies = {}\n",
        "        for word in doc:\n",
        "            if word.text.lower() not in stopwords and word.text.lower() not in punctuation:\n",
        "                if word.text not in word_frequencies.keys():\n",
        "                    word_frequencies[word.text] = 1\n",
        "                else:\n",
        "                    word_frequencies[word.text] += 1\n",
        "\n",
        "        max_frequency = max(word_frequencies.values())\n",
        "        for word in word_frequencies.keys():\n",
        "            word_frequencies[word] = word_frequencies[word] / max_frequency\n",
        "\n",
        "        sentence_tokens = [sent for sent in doc.sents]\n",
        "        sentence_scores = {}\n",
        "        for sent in sentence_tokens:\n",
        "            for word in sent:\n",
        "                if word.text.lower() in word_frequencies.keys():\n",
        "                    if sent not in sentence_scores.keys():\n",
        "                        sentence_scores[sent] = word_frequencies[word.text.lower()]\n",
        "                    else:\n",
        "                        sentence_scores[sent] += word_frequencies[word.text.lower()]\n",
        "\n",
        "        select_length = int(len(sentence_tokens) * 0.3)\n",
        "        summary = nlargest(select_length, sentence_scores, key=sentence_scores.get)\n",
        "\n",
        "        final_summary = [word.text for word in summary]\n",
        "        summary_text = ' '.join(final_summary)\n",
        "\n",
        "        print(f\"\\nInitial number of characters: {len(text)}\")\n",
        "        print(f\"Number of characters in the summarized text: {len(summary_text)}\\n\")\n",
        "\n",
        "        return summary_text\n",
        "\n",
        "    return None"
      ]
    },
    {
      "cell_type": "code",
      "execution_count": null,
      "metadata": {
        "colab": {
          "base_uri": "https://localhost:8080/"
        },
        "id": "Bu-lNyShQUUp",
        "outputId": "acb6ab71-c6b3-4d95-9af4-c32495a913df"
      },
      "outputs": [
        {
          "metadata": {
            "tags": null
          },
          "name": "stdout",
          "output_type": "stream",
          "text": [
            "ROBO: My name is Robo. I will answer your queries about Chatbots. If you want to exit, type Bye!\n",
            "ROBO: I am glad! You are talking to me\n",
            "ROBO: *nods*\n",
            "\n",
            "Initial number of characters: 966\n",
            "Number of characters in the summarized text: 369\n",
            "\n",
            "ROBO: Some chatbots use sophisticated natural language processing systems, \n",
            "but many simpler ones scan for keywords within the input, then pull a reply with the most matching keywords, \n",
            "or the most similar wording pattern, from a database.\n",
            "\n",
            " \n",
            "A chatbot or chatterbot is a software application aimed at simulating conversation with human users, especially over the Internet. \n",
            "\n"
          ]
        }
      ],
      "source": [
        "# Main chatbot logic\n",
        "flag = True\n",
        "print(\"ROBO: My name is Robo. I will answer your queries about Chatbots. If you want to exit, type Bye!\")\n",
        "\n",
        "while flag:\n",
        "    user_response = input(\"YOU: \")\n",
        "    user_response = user_response.lower()\n",
        "\n",
        "    if user_response != 'bye':\n",
        "        if user_response == 'thanks' or user_response == 'thank you':\n",
        "            flag = False\n",
        "            print(\"ROBO: You are welcome.\")\n",
        "        else:\n",
        "            # Check for summarization command\n",
        "            summary_result = summarize_text(user_response)\n",
        "            if summary_result is not None:\n",
        "                print(\"ROBO: \" + summary_result)\n",
        "            else:\n",
        "                if greeting(user_response) is not None:\n",
        "                    print(\"ROBO: \" + greeting(user_response))\n",
        "                else:\n",
        "                    print(\"ROBO: \", end=\"\")\n",
        "                    print(respond(user_response))\n",
        "                    if user_response in sent_tokens:\n",
        "                        sent_tokens.remove(user_response)\n",
        "    else:\n",
        "        flag = False\n",
        "        print(\"ROBO: Bye! Take care.\")"
      ]
    }
  ],
  "metadata": {
    "colab": {
      "provenance": [],
      "authorship_tag": "ABX9TyP/bstDXNoPVCp+CzLKs61P",
      "include_colab_link": true
    },
    "kernelspec": {
      "display_name": "Python 3",
      "name": "python3"
    },
    "language_info": {
      "name": "python"
    }
  },
  "nbformat": 4,
  "nbformat_minor": 0
}